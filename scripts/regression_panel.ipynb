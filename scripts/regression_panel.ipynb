{
 "cells": [
  {
   "cell_type": "markdown",
   "metadata": {},
   "source": [
    "Ce notebook a pour objectif principal d'effectuer des régressions panels sur nos données.\n",
    "\n",
    "L'utilisation du panel a pour objectif d'effacer les effets fixes liées à la commune. Ainsi, le \"alpha_i\" dans l'équation économétrique d'une transaction immobilière représente tous les effets fixes influençant le prix de transaction qui sont directement liées à la commune et non à la caractéristique de la maison.\n",
    "\n",
    "L'idée qu'il y ait des effets fixes liées à la commune nous vient du fait que lorsque l'on regarde les statistiques descriptives du prix de transaction par commune, on remarque une réelle disparité entre départements."
   ]
  },
  {
   "cell_type": "code",
   "execution_count": 17,
   "metadata": {},
   "outputs": [],
   "source": [
    "#Mise en place des données\n",
    "\n",
    "import pandas as pd\n",
    "import numpy as np\n",
    "import statsmodels.api as sm\n",
    "from sklearn.model_selection import train_test_split\n",
    "import matplotlib.pyplot as plt\n",
    "import seaborn as sns\n",
    "from linearmodels.panel import PanelOLS, FirstDifferenceOLS\n",
    "import pandas as pd\n",
    "\n",
    "df = pd.read_csv(\"/home/onyxia/work/projet_statapp_inondations-9/data/DVF_avec_distances_mairies.csv\")\n",
    "df = df.set_index(['nom_commune']).sort_index()"
   ]
  },
  {
   "cell_type": "code",
   "execution_count": 18,
   "metadata": {},
   "outputs": [
    {
     "data": {
      "text/plain": [
       "Unnamed: 0.1                             0\n",
       "Unnamed: 0                               0\n",
       "id_mutation                    2021-132350\n",
       "date_mutation                   2021-07-28\n",
       "numero_disposition                     1.0\n",
       "nature_mutation                      Vente\n",
       "valeur_fonciere                   200000.0\n",
       "adresse_numero                         2.0\n",
       "adresse_suffixe                          B\n",
       "adresse_nom_voie                LE VILLAGE\n",
       "adresse_code_voie                     0020\n",
       "code_postal_x                      34500.0\n",
       "code_departement                      34.0\n",
       "surface_reelle_bati                   90.0\n",
       "nombre_pieces_principales              4.0\n",
       "surface_terrain                      500.0\n",
       "longitude                         3.049139\n",
       "latitude                         43.013674\n",
       "prix_maison                       200000.0\n",
       "nombre_dependances                     0.0\n",
       "prix_terrain                      200000.0\n",
       "risque_debordement_fort                0.0\n",
       "risque_debordement_moyen               0.0\n",
       "risque_debordement_faible              0.0\n",
       "risque_submersion_fort                 0.0\n",
       "risque_submersion_moyen                0.0\n",
       "risque_submersion_faible               0.0\n",
       "risque_ruissellement_fort              0.0\n",
       "risque_ruissellement_moyen             0.0\n",
       "risque_ruissellement_faible            0.0\n",
       "prix_par_metre_carre                2000.0\n",
       "codeInsee                          30189.0\n",
       "latitude_mairie                  43.836483\n",
       "longitude_mairie                  4.360308\n",
       "distance_mairie_km                     0.1\n",
       "Name: 0, dtype: object"
      ]
     },
     "execution_count": 18,
     "metadata": {},
     "output_type": "execute_result"
    }
   ],
   "source": [
    "df.mode().iloc[0]"
   ]
  },
  {
   "cell_type": "code",
   "execution_count": 28,
   "metadata": {},
   "outputs": [
    {
     "name": "stdout",
     "output_type": "stream",
     "text": [
      "                            OLS Regression Results                            \n",
      "==============================================================================\n",
      "Dep. Variable:            prix_maison   R-squared:                       0.431\n",
      "Model:                            OLS   Adj. R-squared:                  0.431\n",
      "Method:                 Least Squares   F-statistic:                     132.9\n",
      "Date:                Mon, 14 Apr 2025   Prob (F-statistic):           1.20e-82\n",
      "Time:                        12:59:36   Log-Likelihood:            -1.3344e+06\n",
      "No. Observations:              101651   AIC:                         2.669e+06\n",
      "Df Residuals:                  101640   BIC:                         2.669e+06\n",
      "Df Model:                          10                                         \n",
      "Covariance Type:              cluster                                         \n",
      "=============================================================================================\n",
      "                                coef    std err          z      P>|z|      [0.025      0.975]\n",
      "---------------------------------------------------------------------------------------------\n",
      "const                     -2197.1411   5531.044     -0.397      0.691    -1.3e+04    8643.507\n",
      "surface_reelle_bati        2145.0563    103.208     20.784      0.000    1942.773    2347.340\n",
      "nombre_pieces_principales  1319.6079   1402.618      0.941      0.347   -1429.473    4068.689\n",
      "nombre_dependances         3.032e+04   1623.017     18.680      0.000    2.71e+04    3.35e+04\n",
      "distance_mairie_km         8039.0008   2201.780      3.651      0.000    3723.590    1.24e+04\n",
      "risque_debordement_fort   -1.618e+04   5597.122     -2.890      0.004   -2.71e+04   -5206.723\n",
      "risque_debordement_moyen  -1.589e+04   3223.386     -4.931      0.000   -2.22e+04   -9575.637\n",
      "risque_debordement_faible -7442.4320   2101.786     -3.541      0.000   -1.16e+04   -3323.008\n",
      "risque_submersion_fort     1.429e+04   2.41e+04      0.594      0.553   -3.29e+04    6.15e+04\n",
      "risque_submersion_moyen   -4.265e+04   2.12e+04     -2.007      0.045   -8.43e+04   -1006.362\n",
      "risque_submersion_faible   8.645e+04   1.53e+04      5.668      0.000    5.66e+04    1.16e+05\n",
      "==============================================================================\n",
      "Omnibus:                    20082.664   Durbin-Watson:                   1.275\n",
      "Prob(Omnibus):                  0.000   Jarque-Bera (JB):           127133.556\n",
      "Skew:                           0.803   Prob(JB):                         0.00\n",
      "Kurtosis:                       8.238   Cond. No.                     1.96e+03\n",
      "==============================================================================\n",
      "\n",
      "Notes:\n",
      "[1] Standard Errors are robust to cluster correlation (cluster)\n",
      "[2] The condition number is large, 1.96e+03. This might indicate that there are\n",
      "strong multicollinearity or other numerical problems.\n"
     ]
    }
   ],
   "source": [
    "X = df[[\"surface_reelle_bati\",\"nombre_pieces_principales\",\"nombre_dependances\", \"distance_mairie_km\", \"risque_debordement_fort\",\"risque_debordement_moyen\",\"risque_debordement_faible\", \"risque_submersion_fort\",\"risque_submersion_moyen\",\"risque_submersion_faible\"]]\n",
    "X = sm.add_constant(X)\n",
    "Y = df[[\"prix_maison\"]]\n",
    "model = sm.OLS(Y, X).fit(cov_type='cluster', cov_kwds={'groups': df[\"code_postal_x\"]})\n",
    "\n",
    "print(model.summary())"
   ]
  }
 ],
 "metadata": {
  "kernelspec": {
   "display_name": "base",
   "language": "python",
   "name": "python3"
  },
  "language_info": {
   "codemirror_mode": {
    "name": "ipython",
    "version": 3
   },
   "file_extension": ".py",
   "mimetype": "text/x-python",
   "name": "python",
   "nbconvert_exporter": "python",
   "pygments_lexer": "ipython3",
   "version": "3.12.7"
  }
 },
 "nbformat": 4,
 "nbformat_minor": 2
}
